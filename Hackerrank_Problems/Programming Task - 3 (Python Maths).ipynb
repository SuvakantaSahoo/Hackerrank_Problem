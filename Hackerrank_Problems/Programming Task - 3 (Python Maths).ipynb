{
 "cells": [
  {
   "cell_type": "code",
   "execution_count": null,
   "id": "145b0e0d",
   "metadata": {},
   "outputs": [],
   "source": [
    "# Polar Coordinates\n",
    "import cmath\n",
    "\n",
    "z = complex(input())\n",
    "\n",
    "r , phi = cmath.polar(z)\n",
    "\n",
    "print(r,phi,sep = '\\n')"
   ]
  },
  {
   "cell_type": "code",
   "execution_count": null,
   "id": "259377aa",
   "metadata": {},
   "outputs": [],
   "source": [
    "# Find Angle MBC\n",
    "import math\n",
    "\n",
    "AB = int(input())\n",
    "BC = int(input())\n",
    "\n",
    "tita = (math.atan(AB/BC))\n",
    "\n",
    "tita_to_degree = round(math.degrees(tita))\n",
    "\n",
    "print(tita_to_degree,chr(176),sep = '')"
   ]
  },
  {
   "cell_type": "code",
   "execution_count": null,
   "id": "85139126",
   "metadata": {},
   "outputs": [],
   "source": [
    "# Triangle Quest 2\n",
    "for i in range(1,int(input())+1): \n",
    "    print (((10**i)//9)**2)"
   ]
  },
  {
   "cell_type": "code",
   "execution_count": null,
   "id": "3134c409",
   "metadata": {},
   "outputs": [],
   "source": [
    "# Mod Divmod\n",
    "a = int(input())\n",
    "\n",
    "b = int(input())\n",
    "\n",
    "q,r = divmod(a,b)\n",
    "\n",
    "print(q,r,(q,r),sep='\\n')\n"
   ]
  },
  {
   "cell_type": "code",
   "execution_count": null,
   "id": "a5b38b7f",
   "metadata": {},
   "outputs": [],
   "source": [
    "# Power - Mod Power\n",
    "a = int(input())\n",
    "b = int(input())\n",
    "m = int(input())\n",
    "\n",
    "print(pow(a,b),pow(a,b,m),sep=\"\\n\")"
   ]
  },
  {
   "cell_type": "code",
   "execution_count": null,
   "id": "2aee9cef",
   "metadata": {},
   "outputs": [],
   "source": [
    "# Integers Come In All Sizes\n",
    "a = int(input())\n",
    "\n",
    "b = int(input())\n",
    "c = int(input())\n",
    "d = int(input())\n",
    "\n",
    "print((a**b)+ (c**d))"
   ]
  },
  {
   "cell_type": "code",
   "execution_count": null,
   "id": "72cbb522",
   "metadata": {},
   "outputs": [],
   "source": [
    "# Triangle Quest\n",
    "for i in range(1,int(input())): \n",
    "    print(((10**i)//9)*i)"
   ]
  }
 ],
 "metadata": {
  "kernelspec": {
   "display_name": "Python 3 (ipykernel)",
   "language": "python",
   "name": "python3"
  },
  "language_info": {
   "codemirror_mode": {
    "name": "ipython",
    "version": 3
   },
   "file_extension": ".py",
   "mimetype": "text/x-python",
   "name": "python",
   "nbconvert_exporter": "python",
   "pygments_lexer": "ipython3",
   "version": "3.9.12"
  }
 },
 "nbformat": 4,
 "nbformat_minor": 5
}
