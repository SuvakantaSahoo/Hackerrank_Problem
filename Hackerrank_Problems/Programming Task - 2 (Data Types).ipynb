{
 "cells": [
  {
   "cell_type": "code",
   "execution_count": null,
   "id": "bdac6902",
   "metadata": {},
   "outputs": [],
   "source": [
    "# List Comprehensions\n",
    "if __name__ == '__main__':\n",
    "    x = int(input())\n",
    "    y = int(input())\n",
    "    z = int(input())\n",
    "    n = int(input())\n",
    "\n",
    "    print(list([i,j,k] for i in range(x+1) for j in range(y+1) for k in range(z+1)  if i+j+k !=n))"
   ]
  },
  {
   "cell_type": "code",
   "execution_count": null,
   "id": "c1669312",
   "metadata": {},
   "outputs": [],
   "source": [
    "# Find the Runner-Up Score!\n",
    "if __name__ == '__main__':\n",
    "    n=int(input())\n",
    "    arr=list(map(int,input().split()))\n",
    "    arr.sort()\n",
    "    print(arr[(arr.index(max(arr)))-1])"
   ]
  },
  {
   "cell_type": "code",
   "execution_count": null,
   "id": "572ff71b",
   "metadata": {},
   "outputs": [],
   "source": [
    "# Nested Lists\n",
    "n=int(input())\n",
    "res=[]\n",
    "grade=[]\n",
    "for i in range(n):\n",
    "    name=input()\n",
    "    mark=float(input())\n",
    "    res.append([name,mark])\n",
    "    grade.append(mark)   \n",
    "\n",
    "grade=sorted(set(grade))  \n",
    "m=grade[1]\n",
    "\n",
    "name=[]\n",
    "for val in res:\n",
    "    if m==val[1]:\n",
    "        name.append(val[0])\n",
    "name.sort()\n",
    "for nm in name:\n",
    "    print(nm)"
   ]
  },
  {
   "cell_type": "code",
   "execution_count": null,
   "id": "11492615",
   "metadata": {},
   "outputs": [],
   "source": [
    "# Finding the percentage\n",
    "if __name__ == '__main__':\n",
    "    n = int(input())\n",
    "    student_marks = {}\n",
    "    for _ in range(n):\n",
    "        name, *line = input().split()\n",
    "        scores = list(map(float, line))\n",
    "        student_marks[name] = scores\n",
    "    query_name = input()\n",
    "    marks=student_marks[query_name]\n",
    "    print(format(sum(marks)/3,'.2f'))"
   ]
  },
  {
   "cell_type": "code",
   "execution_count": null,
   "id": "3964219a",
   "metadata": {},
   "outputs": [],
   "source": [
    "# Lists\n",
    "if __name__ == '__main__':\n",
    "    lst=[]\n",
    "    n = int(input())\n",
    "    for i in range(n):\n",
    "        cmd=input().split()\n",
    "        if cmd[0]=='insert':\n",
    "            lst.insert(int(cmd[1]),int(cmd[2]))\n",
    "        elif cmd[0]=='print':\n",
    "            print(lst)\n",
    "        elif cmd[0]=='remove':\n",
    "            lst.remove(int(cmd[1]))\n",
    "        elif cmd[0]=='append':\n",
    "            lst.append(int(cmd[1]))\n",
    "        elif cmd[0]=='sort':\n",
    "            lst.sort()\n",
    "        elif cmd[0]=='pop':\n",
    "            lst.pop()\n",
    "        else:\n",
    "            lst.reverse("
   ]
  },
  {
   "cell_type": "code",
   "execution_count": null,
   "id": "87df77b2",
   "metadata": {},
   "outputs": [],
   "source": [
    "# Tuples\n",
    "if __name__ == '__main__':\n",
    "    n = int(input())\n",
    "    integer_list = map(int, input().split())\n",
    "    tup = ()\n",
    "    for x in integer_list:\n",
    "        tup+=(x,)\n",
    "    \n",
    "    print(hash(tup))\n"
   ]
  },
  {
   "cell_type": "code",
   "execution_count": null,
   "id": "22268cd4",
   "metadata": {},
   "outputs": [],
   "source": [
    "# Introduction to Sets\n",
    "def average(array):\n",
    "    array=set(array)\n",
    "    return sum(array)/len(array)\n",
    "    \n",
    "    \n",
    "if __name__ == '__main__':\n",
    "    n = int(input())\n",
    "    arr = list(map(int, input().split()))\n",
    "    result = average(arr)\n",
    "    print(result)"
   ]
  },
  {
   "cell_type": "code",
   "execution_count": null,
   "id": "68398427",
   "metadata": {},
   "outputs": [],
   "source": [
    "# No Idea!\n",
    "n, m = input().split()\n",
    "\n",
    "sc_ar = input().split()\n",
    "\n",
    "A = set(input().split())\n",
    "B = set(input().split())\n",
    "print(sum([(i in A) - (i in B) for i in sc_ar]))"
   ]
  },
  {
   "cell_type": "code",
   "execution_count": null,
   "id": "4e067a0f",
   "metadata": {},
   "outputs": [],
   "source": [
    "# Symmetric Difference\n",
    "a,b = [set(input().split()) for _ in range(4)][1::2]\n",
    "print('\\n'.join(sorted(a^b, key=int)))"
   ]
  },
  {
   "cell_type": "code",
   "execution_count": null,
   "id": "e4dfa075",
   "metadata": {},
   "outputs": [],
   "source": [
    "# Set .add()\n",
    "a = set()\n",
    "[a.add(input()) for _ in range(int(input()))]\n",
    "print(len(a))"
   ]
  },
  {
   "cell_type": "code",
   "execution_count": null,
   "id": "60e70b9e",
   "metadata": {},
   "outputs": [],
   "source": [
    "# Set .discard(), .remove() & .pop()\n",
    "num = int(input())\n",
    "data = set(map(int, input().split()))\n",
    "operations = int(input())\n",
    "\n",
    "for x in range(operations):\n",
    "    oper = input().split()\n",
    "    if oper[0] == \"remove\":\n",
    "        data.remove(int(oper[1]))\n",
    "    elif oper[0] == \"discard\":\n",
    "        data.discard(int(oper[1]))\n",
    "    else:\n",
    "        data.pop()\n",
    "    \n",
    "print(sum(data))"
   ]
  },
  {
   "cell_type": "code",
   "execution_count": null,
   "id": "48e4bc22",
   "metadata": {},
   "outputs": [],
   "source": [
    "# Set .union() Operation\n",
    "n = int(input())\n",
    "l = list(input().split())\n",
    "m = int(input())\n",
    "k = list(input().split())\n",
    "\n",
    "s1 = set(l)\n",
    "s2 = set(k)\n",
    "\n",
    "print(len(s1.union(s2)))"
   ]
  },
  {
   "cell_type": "code",
   "execution_count": null,
   "id": "acc13914",
   "metadata": {},
   "outputs": [],
   "source": [
    "# Set .intersection() Operation\n",
    "num1, st1, num2, st2 = (set(input().split()) for i in range(4))\n",
    "print(len(st1.intersection(st2)))"
   ]
  },
  {
   "cell_type": "code",
   "execution_count": null,
   "id": "076c58b5",
   "metadata": {},
   "outputs": [],
   "source": [
    "# Set .difference() Operation\n",
    "n1 = int(input())\n",
    "set_1 = set(map(int,input().split()))\n",
    "n2 = int(input())\n",
    "set_2 = set(map(int,input().split()))\n",
    "print(len(set_1-set_2))"
   ]
  },
  {
   "cell_type": "code",
   "execution_count": null,
   "id": "8b6d8499",
   "metadata": {},
   "outputs": [],
   "source": [
    "# Set .symmetric_difference() Operation\n",
    "_, a = input(), set(input().split())\n",
    "_, b = input(), set(input().split())\n",
    "print(len(a.symmetric_difference(b)))"
   ]
  },
  {
   "cell_type": "code",
   "execution_count": null,
   "id": "3ffa7a61",
   "metadata": {},
   "outputs": [],
   "source": [
    "# Set Mutations\n",
    "if __name__ == '__main__':\n",
    "    (_, A) = (int(input()),set(map(int, input().split())))\n",
    "    B = int(input())\n",
    "    for _ in range(B):\n",
    "        (command, newSet) = (input().split()[0],set(map(int, input().split())))\n",
    "        getattr(A, command)(newSet)\n",
    "\n",
    "    print (sum(A))"
   ]
  },
  {
   "cell_type": "code",
   "execution_count": null,
   "id": "5f9ab020",
   "metadata": {},
   "outputs": [],
   "source": [
    "# The Captain's Room\n",
    "k,arr = int(input()),list(map(int, input().split()))\n",
    "\n",
    "myset = set(arr)\n",
    "\n",
    "print(((sum(myset)*k)-(sum(arr)))//(k-1))"
   ]
  },
  {
   "cell_type": "code",
   "execution_count": null,
   "id": "d5fe5387",
   "metadata": {},
   "outputs": [],
   "source": [
    "# Check Subset\n",
    "for _ in range(int(input())):\n",
    "    x, a, z, b = input(), set(input().split()), input(), set(input().split())\n",
    "    print(a.issubset(b))"
   ]
  },
  {
   "cell_type": "code",
   "execution_count": null,
   "id": "a747e920",
   "metadata": {},
   "outputs": [],
   "source": [
    "# Check Strict Superset\n",
    "def isstrictsuperset(a,b):\n",
    "    # true if a is a strict superset of b\n",
    "    return b.issubset(a) and not(a.issubset(b))\n",
    "\n",
    "a = set(int(x) for x in input().split(' '))\n",
    "n = int(input())\n",
    "res = True\n",
    "\n",
    "for _ in range(n):\n",
    "    b = set(int(x) for x in input().split(' '))\n",
    "    res &= isstrictsuperset(a,b)\n",
    "    \n",
    "print(res)"
   ]
  }
 ],
 "metadata": {
  "kernelspec": {
   "display_name": "Python 3 (ipykernel)",
   "language": "python",
   "name": "python3"
  },
  "language_info": {
   "codemirror_mode": {
    "name": "ipython",
    "version": 3
   },
   "file_extension": ".py",
   "mimetype": "text/x-python",
   "name": "python",
   "nbconvert_exporter": "python",
   "pygments_lexer": "ipython3",
   "version": "3.9.12"
  }
 },
 "nbformat": 4,
 "nbformat_minor": 5
}
